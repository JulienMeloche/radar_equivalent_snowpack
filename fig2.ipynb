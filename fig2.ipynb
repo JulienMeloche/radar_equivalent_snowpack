{
 "cells": [
  {
   "cell_type": "code",
   "execution_count": 1,
   "metadata": {},
   "outputs": [],
   "source": [
    "import xarray as xr\n",
    "import numpy as np\n",
    "import matplotlib.pyplot as plt\n",
    "import pandas as pd\n",
    "from sklearn.cluster import KMeans\n",
    "import seaborn as sns\n",
    "\n",
    "from matplotlib.colors import LinearSegmentedColormap\n",
    "from matplotlib.collections import PatchCollection\n",
    "from matplotlib.patches import Rectangle\n",
    "from matplotlib.colors import BoundaryNorm\n",
    "\n",
    "#for server hpcr\n",
    "import sys\n",
    "sys.path.append(\"/home/jum002/store5/repo/smrt_fork/smrt\")\n",
    "sys.path.append(\"/home/jum002/code-workshop/radar_equivalent_snow/scripts\")\n",
    "\n",
    "#local import\n",
    "import iso_function as iso\n",
    "\n",
    "\n",
    "import warnings\n",
    "warnings.filterwarnings('ignore')"
   ]
  },
  {
   "cell_type": "code",
   "execution_count": 2,
   "metadata": {},
   "outputs": [],
   "source": [
    "xr_cdp = xr.open_dataset('~/store5/output/res_output/wfj_season_2013.nc')\n",
    "df_cdp = xr_cdp.to_dataframe().dropna()\n",
    "\n",
    "#get list of date\n",
    "dates_cdp = df_cdp.groupby(level = 'time').mean().index.get_level_values(0)"
   ]
  },
  {
   "cell_type": "code",
   "execution_count": 3,
   "metadata": {},
   "outputs": [],
   "source": [
    "MEPRA_dict = {'PP': 0,      # fr\n",
    "              'PP+DF': 1,   # fr_lb\n",
    "              'DF': 2,      # lb\n",
    "              'DF+RG': 3,   # lb_fin\n",
    "              'DF+FC': 4,   # lb_ang\n",
    "              'PPgp': 5,    # roul\n",
    "              'RG': 6,      # fin\n",
    "              'MF+RG': 7,   # fin_ar\n",
    "              'RG+FC': 8,   # fin_ang\n",
    "              'FC': 9,      # pl\n",
    "              'FC+DH': 10,  # pl_gob\n",
    "              'DH': 11,     # gob\n",
    "              'MF': 12,     # gel\n",
    "              'MF+DH': 13,  # gob_fon\n",
    "              'MF+FC': 14   # ron_ang\n",
    "              }\n",
    "\n",
    "MEPRA_labels = ['PP', 'PP+DF', 'DF', 'DF+RG', 'DF+FC', 'PPgp', 'RG', 'MF+RG', 'RG+FC', 'FC', 'FC+DH', 'DH', 'MF', 'MF+DH', 'MF+FC']\n",
    "\n",
    "coloring = {'PP': np.array([0, 255, 0]) / 255.0,\n",
    "            'MM': np.array([255, 215, 0]) / 255.0,\n",
    "            'DF': np.array([34, 139, 34]) / 255.0,\n",
    "            'RG': np.array([255, 182, 193]) / 255.0,\n",
    "            'FC': np.array([173, 216, 230]) / 255.0,\n",
    "            'DH': np.array([0, 0, 255]) / 255.0,\n",
    "            'SH': np.array([250, 0, 255]) / 255.0,\n",
    "            'MF': np.array([255, 0, 0]) / 255.0,\n",
    "            'MFcr': np.array([255, 255, 255]) / 255.0,\n",
    "            'IF': np.array([0, 255, 255]) / 255.0,\n",
    "            'NO': np.array([200, 200, 200]) / 255.0}\n",
    "\n",
    "color_grain = {MEPRA_dict['PP']: coloring['PP'],\n",
    "               MEPRA_dict['PP+DF']: 0.5 * (coloring['PP'] + coloring['DF']),\n",
    "               MEPRA_dict['DF']: coloring['DF'],\n",
    "               MEPRA_dict['DF+RG']: 0.5 * (coloring['DF'] + coloring['RG']),\n",
    "               MEPRA_dict['DF+FC']: 0.5 * (coloring['DF'] + coloring['FC']),\n",
    "               MEPRA_dict['PPgp']: [0, 0, 0],\n",
    "               MEPRA_dict['RG']: coloring['RG'],\n",
    "               MEPRA_dict['MF+RG']: 0.5 * (coloring['MF'] + coloring['RG']),\n",
    "               MEPRA_dict['RG+FC']: 0.5 * (coloring['RG'] + coloring['FC']),\n",
    "               MEPRA_dict['FC']: coloring['FC'],\n",
    "               MEPRA_dict['FC+DH']: 0.5 * (coloring['FC'] + coloring['DH']),\n",
    "               MEPRA_dict['DH']: coloring['DH'],\n",
    "               MEPRA_dict['MF']: coloring['MF'],\n",
    "               MEPRA_dict['MF+DH']: 0.5 * (coloring['MF'] + coloring['DH']),\n",
    "               MEPRA_dict['MF+FC']: 0.5 * (coloring['MF'] + coloring['FC'])}\n",
    "\n",
    "grain_colormap = LinearSegmentedColormap.from_list(\"custom\", [[i / 14., color_grain[i]] for i in range(15)])"
   ]
  },
  {
   "cell_type": "code",
   "execution_count": null,
   "metadata": {},
   "outputs": [],
   "source": [
    "grain_colormap.N"
   ]
  },
  {
   "cell_type": "code",
   "execution_count": 5,
   "metadata": {},
   "outputs": [],
   "source": [
    "# define the bins and normalize\n",
    "bounds = np.linspace(0, len(MEPRA_dict), len(MEPRA_dict)+1)\n",
    "norm = BoundaryNorm(bounds, grain_colormap.N)"
   ]
  },
  {
   "cell_type": "code",
   "execution_count": 6,
   "metadata": {},
   "outputs": [],
   "source": [
    "def layer_k_noAverage(snow_df, n_clusters):\n",
    "    \n",
    "    X = pd.DataFrame({ 'ke' : iso.compute_ke(snow_df), 'height' : snow_df.height})\n",
    "    kmeans = KMeans(n_clusters=n_clusters, random_state=0, n_init=\"auto\").fit(X)\n",
    "    snow_df['Group'] = kmeans.labels_\n",
    "    snow_df['ke'] = iso.compute_ke(snow_df)\n",
    "\n",
    "    return snow_df"
   ]
  },
  {
   "cell_type": "code",
   "execution_count": null,
   "metadata": {},
   "outputs": [],
   "source": [
    "print(dates_cdp[150], dates_cdp[394])"
   ]
  },
  {
   "cell_type": "code",
   "execution_count": 8,
   "metadata": {},
   "outputs": [],
   "source": [
    "#index choose a bit randomly to pick date early and mid season\n",
    "snow_2_e = layer_k_noAverage(df_cdp.loc[dates_cdp[150],:], 2)\n",
    "snow_2_m = layer_k_noAverage(df_cdp.loc[dates_cdp[394],:], 2)\n",
    "\n",
    "snow_3_e = layer_k_noAverage(df_cdp.loc[dates_cdp[150],:], 3)\n",
    "snow_3_m = layer_k_noAverage(df_cdp.loc[dates_cdp[394],:], 3)"
   ]
  },
  {
   "cell_type": "code",
   "execution_count": null,
   "metadata": {},
   "outputs": [],
   "source": [
    "snow_3_e['h_btm'] = snow_3_e.height - snow_3_e.thickness\n",
    "stack_h = np.dstack([snow_3_e.height, snow_3_e.h_btm]).flatten()\n",
    "stack_d = np.dstack([snow_3_e.SNODEN_ML, snow_3_e.SNODEN_ML]).flatten()\n",
    "stack_d"
   ]
  },
  {
   "cell_type": "code",
   "execution_count": null,
   "metadata": {},
   "outputs": [],
   "source": [
    "snow_3_e"
   ]
  },
  {
   "cell_type": "code",
   "execution_count": 11,
   "metadata": {},
   "outputs": [],
   "source": [
    "def change_group_e(row):\n",
    "    if row['Group'] == 1:\n",
    "        row['Group'] = 0\n",
    "    elif row['Group'] == 0:\n",
    "        row['Group'] = 1\n",
    "    elif row['Group'] == 2:\n",
    "        row['Group'] = 2\n",
    "    return row\n",
    "\n",
    "def change_group_m(row):\n",
    "    if row['Group'] == 2:\n",
    "        row['Group'] = int(0)\n",
    "    elif row['Group'] == 0:\n",
    "        row['Group'] = int(1)\n",
    "    elif row['Group'] == 1:\n",
    "        row['Group'] = int(2)\n",
    "    return row"
   ]
  },
  {
   "cell_type": "code",
   "execution_count": 12,
   "metadata": {},
   "outputs": [],
   "source": [
    "snow_3_e = snow_3_e.apply(lambda x: change_group_e(x), axis =1)\n",
    "snow_3_m = snow_3_m.apply(lambda x: change_group_m(x), axis =1)"
   ]
  },
  {
   "cell_type": "code",
   "execution_count": null,
   "metadata": {},
   "outputs": [],
   "source": [
    "snow_3_m.Group.astype(int)"
   ]
  },
  {
   "cell_type": "code",
   "execution_count": null,
   "metadata": {},
   "outputs": [],
   "source": [
    "fig, ax = plt.subplots(2,5, figsize = (8,6), sharey = True, sharex = 'col', gridspec_kw={'width_ratios': [0.75, 0.75, 0.75, 0.75, 0.2]})\n",
    "\n",
    "#snow1\n",
    "#ax[0,2].set_title('WFJ : 2013-12-08')\n",
    "sns.scatterplot(x = snow_2_e.ke, y= snow_2_e.height, hue = snow_2_e.Group, ax = ax[0,0], legend = True, palette= 'colorblind')\n",
    "ax[0,0].set_ylabel('Height (m)')\n",
    "ax[0,0].hlines(y = snow_2_e.SNODP[0]* 0.5, xmin=0, xmax=1, linestyles = ':', color = 'k', alpha = 0.5)\n",
    "ax[0,0].set_xlabel('$\\kappa_e$ ($m^{-1}$)')\n",
    "\n",
    "\n",
    "sns.scatterplot(x = snow_3_e.ke, y= snow_3_e.height, hue = snow_3_e.Group.astype(int), ax = ax[0,1], legend = True, palette= 'colorblind')\n",
    "ax[0,1].set_ylabel('Height (m)')\n",
    "ax[0,1].hlines(y = snow_3_e.SNODP[0]* 0.33, xmin=0, xmax=1, linestyles = ':', color = 'k', alpha = 0.5)\n",
    "ax[0,1].hlines(y = snow_3_e.SNODP[0]* 0.66, xmin=0, xmax=1, linestyles = ':', color = 'k', alpha = 0.5)\n",
    "\n",
    "#ax[0,2].plot(snow_3_e.SNODEN_ML, snow_3_e.height, 'k', alpha = 0.5)\n",
    "snow_3_e['h_btm'] = snow_3_e.height - snow_3_e.thickness\n",
    "stack_h = np.dstack([snow_3_e.height, snow_3_e.h_btm]).flatten()\n",
    "stack_d = np.dstack([snow_3_e.SNODEN_ML, snow_3_e.SNODEN_ML]).flatten()\n",
    "stack_ssa = np.dstack([snow_3_e.ssa, snow_3_e.ssa]).flatten()\n",
    "\n",
    "ax[0,2].plot(stack_d, stack_h, 'k', alpha = 0.5)\n",
    "ax[0,3].plot(stack_ssa, stack_h, 'k', alpha = 0.5)\n",
    "#ax[2].scatter(snow1.ssa, snow1.height, color = color_type)\n",
    "\n",
    "#grain type\n",
    "hgt_bot = snow_3_e.h_btm\n",
    "hgt_top = snow_3_e.height\n",
    "layers_obs = [Rectangle((0, h_bot), 1, h_top-h_bot,edgecolor=None) for h_bot,h_top in zip(list(hgt_bot),list(hgt_top))] \n",
    "# Create patch collection with specified colour/alpha\n",
    "pc = PatchCollection(layers_obs, array = snow_3_e.SNOTYPE_ML, cmap=grain_colormap, norm = norm, \n",
    "                        edgecolor=None)\n",
    "#ax[0,3].set_xticks([])\n",
    "# Add collection to axes        \n",
    "ax[0,4].add_collection(pc)  \n",
    "\n",
    "ax[0,0].set_title('a)', size =10)\n",
    "ax[0,1].set_title('b)', size =10)\n",
    "ax[0,2].set_title('c)', size =10)\n",
    "ax[0,3].set_title('d)', size =10)\n",
    "#ax[0,4].set_title('e)', size =10)\n",
    "\n",
    "\n",
    "\n",
    "#sno2\n",
    "#ax[1,2].set_title('WFJ : 2014-02-09')\n",
    "sns.scatterplot(x = snow_2_m.ke, y= snow_2_m.height, hue = snow_2_m.Group, ax = ax[1,0], palette= 'colorblind')\n",
    "ax[1,0].set_ylabel('Height (m)')\n",
    "ax[1,0].hlines(y = snow_2_m.SNODP[0]* 0.5, xmin=0, xmax=1, linestyles = ':', color = 'k', alpha = 0.5)\n",
    "ax[1,0].set_xlabel('$\\kappa_e$ ($m^{-1}$)')\n",
    "ax[1,0].legend([]).remove()\n",
    "\n",
    "sns.scatterplot(x = snow_3_m.ke, y= snow_3_m.height, hue = snow_3_m.Group.astype(int), ax = ax[1,1], palette= 'colorblind')\n",
    "ax[1,1].set_ylabel('Height (m)')\n",
    "ax[1,1].set_xlabel('$\\kappa_e$ ($m^{-1}$)')\n",
    "ax[1,1].hlines(y = snow_3_m.SNODP[0]* 0.33, xmin=0, xmax=1, linestyles = ':', color = 'k', alpha = 0.5)\n",
    "ax[1,1].hlines(y = snow_3_m.SNODP[0]* 0.66, xmin=0, xmax=1, linestyles = ':', color = 'k', alpha = 0.5)\n",
    "ax[1,1].legend([]).remove()\n",
    "\n",
    "\n",
    "\n",
    "snow_3_m['h_btm'] = snow_3_m.height - snow_3_m.thickness\n",
    "stack_h = np.dstack([snow_3_m.height, snow_3_m.h_btm]).flatten()\n",
    "stack_d = np.dstack([snow_3_m.SNODEN_ML, snow_3_m.SNODEN_ML]).flatten()\n",
    "stack_ssa = np.dstack([snow_3_m.ssa, snow_3_m.ssa]).flatten()\n",
    "\n",
    "ax[1,2].plot(stack_d, stack_h, 'k', alpha = 0.5)\n",
    "ax[1,2].set_xlabel('Density ($kg$ $m^{-3}$)')\n",
    "\n",
    "ax[1,3].plot(stack_ssa, stack_h, 'k', alpha = 0.5)\n",
    "ax[1,3].set_xlabel('SSA ($m^2$ $kg^{-1}$)')\n",
    "\n",
    "ax[1,0].set_title('e)', size =10)\n",
    "ax[1,1].set_title('f)', size =10)\n",
    "ax[1,2].set_title('g)', size =10)\n",
    "ax[1,3].set_title('h)', size =10)\n",
    "\n",
    "#grain type\n",
    "hgt_bot = snow_3_m.h_btm\n",
    "hgt_top = snow_3_m.height\n",
    "layers_obs = [Rectangle((0, h_bot), 1, h_top-h_bot,edgecolor=None) for h_bot,h_top in zip(list(hgt_bot),list(hgt_top))] \n",
    "# Create patch collection with specified colour/alpha\n",
    "pc = PatchCollection(layers_obs, array = snow_3_m.SNOTYPE_ML, cmap=grain_colormap,  norm = norm,\n",
    "                        edgecolor=None)\n",
    "ax[1,4].set_xticks([])\n",
    "# Add collection to axes        \n",
    "ax[1,4].add_collection(pc)  \n",
    "\n",
    "cax = ax[1,4].inset_axes([1.3,0,0.5,2.2])\n",
    "cbar = plt.colorbar(pc, cax=cax)\n",
    "labels = MEPRA_labels\n",
    "cbar.set_ticks(np.arange(np.shape(labels)[0]) +0.5)\n",
    "cbar.ax.set_yticklabels(labels)\n",
    "ax[1,4].set_xlabel('\\n        Grain type')\n",
    "#cax.set_xlabel('\\n Grain type')\n",
    "\n",
    "plt.subplots_adjust(wspace = 0.05)\n",
    "#plt.subplots_adjust(hspace = 0.1)\n"
   ]
  },
  {
   "cell_type": "code",
   "execution_count": null,
   "metadata": {},
   "outputs": [],
   "source": [
    "150/7.5"
   ]
  }
 ],
 "metadata": {
  "kernelspec": {
   "display_name": "CMDS310",
   "language": "python",
   "name": "cmds310"
  },
  "language_info": {
   "codemirror_mode": {
    "name": "ipython",
    "version": 3
   },
   "file_extension": ".py",
   "mimetype": "text/x-python",
   "name": "python",
   "nbconvert_exporter": "python",
   "pygments_lexer": "ipython3",
   "version": "3.10.12"
  }
 },
 "nbformat": 4,
 "nbformat_minor": 2
}
